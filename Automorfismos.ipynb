{
  "nbformat": 4,
  "nbformat_minor": 0,
  "metadata": {
    "colab": {
      "name": "Automorfismos.ipynb",
      "provenance": [],
      "collapsed_sections": [],
      "authorship_tag": "ABX9TyNeAtnXGGAjLCCpJthR1Tu4",
      "include_colab_link": true
    },
    "kernelspec": {
      "name": "python3",
      "display_name": "Python 3"
    }
  },
  "cells": [
    {
      "cell_type": "markdown",
      "metadata": {
        "id": "view-in-github",
        "colab_type": "text"
      },
      "source": [
        "<a href=\"https://colab.research.google.com/github/andiazo/DiscreteMath2/blob/master/Automorfismos.ipynb\" target=\"_parent\"><img src=\"https://colab.research.google.com/assets/colab-badge.svg\" alt=\"Open In Colab\"/></a>"
      ]
    },
    {
      "cell_type": "markdown",
      "metadata": {
        "id": "QpQWeTkFqYIH",
        "colab_type": "text"
      },
      "source": [
        "# Automorfismos\n",
        "\n",
        "**Autor: Andrés D. Díaz O.**\n",
        "\n",
        "El siguiente algoritmo está pensado para hallar el grupo de automorfismos de un grafo."
      ]
    },
    {
      "cell_type": "code",
      "metadata": {
        "id": "3VAU6tshg4wA",
        "colab_type": "code",
        "colab": {
          "base_uri": "https://localhost:8080/",
          "height": 187
        },
        "outputId": "30c015ba-32a3-4152-f114-4fcbb9e4805f"
      },
      "source": [
        "import itertools\n",
        "import numpy as np\n",
        "\n",
        "def grafo():\n",
        "    while True:\n",
        "        try:\n",
        "            print(\"Grafo G=(V,E)\")\n",
        "            print(\"Ingrese número de vértices: \")\n",
        "            V = int(input())\n",
        "            print(\"Ingrese los bordes en separado por espacios:\")\n",
        "            E = input().split(\" \")\n",
        "            matrizA = matrizAdj(V, E)\n",
        "            return matrizA, V\n",
        "            break\n",
        "        except (RuntimeError, TypeError, NameError, ValueError):\n",
        "            print(\"Datos incorrectos...\")             \n",
        "\n",
        "def matrizAdj(v, e):\n",
        "    d = (v, v)\n",
        "    matrix = np.zeros(d)\n",
        "    if(len(e) == 0): \n",
        "        pass\n",
        "    elif(len(e) == 2):\n",
        "        matrix[int(e[0]),int(e[1])] = 1\n",
        "    else:\n",
        "        for i in range(0, len(e) - 1, 2):\n",
        "            matrix[int(e[i]) - 1, int(e[i+1]) - 1] = 1\n",
        "            matrix[int(e[i+1]) - 1, int(e[i]) - 1] = 1\n",
        "    return matrix\n",
        "\n",
        "def permutarVertices(v):\n",
        "    p_list = []\n",
        "    for i in range(0, v):\n",
        "        p_list.append(i)\n",
        "    return list(itertools.permutations(p_list))\n",
        "\n",
        "def AutGrafo(matrizA, v):\n",
        "    c = 0\n",
        "    perm = []\n",
        "    permVertices = permutarVertices(v)\n",
        "    for i in permVertices:\n",
        "        matriz1 = matrizA[i,:]\n",
        "        matriz2 = matriz1[:,i] \n",
        "        if(esIsomorfo(matrizA, matriz2) == True):           \n",
        "            if (c == 0):\n",
        "                print(\"\\nAut(G) = {\")\n",
        "                for j in i:\n",
        "                    perm.append(j+1)\n",
        "                print(perm)\n",
        "                perm.clear()                \n",
        "            else:\n",
        "                for j in i:\n",
        "                    perm.append(j+1)\n",
        "                print(perm)\n",
        "                perm.clear()\n",
        "            c+=1\n",
        "    print(\"}\")\n",
        "\n",
        "def esIsomorfo(matrizA, matrizB):\n",
        "    if((matrizA == matrizB).all()):\n",
        "        return True\n",
        "    else:\n",
        "        return False\n",
        "\n",
        "matrizA, V = grafo()\n",
        "AutGrafo(matrizA, V)"
      ],
      "execution_count": 44,
      "outputs": [
        {
          "output_type": "stream",
          "text": [
            "Grafo G=(V,E)\n",
            "Ingrese número de vértices: \n",
            "4\n",
            "Ingrese los bordes en separado por espacios\n",
            "1 2 2 3 3 4 4 2\n",
            "\n",
            "Aut(G) = {\n",
            "[1, 2, 3, 4]\n",
            "[1, 2, 4, 3]\n",
            "}\n"
          ],
          "name": "stdout"
        }
      ]
    }
  ]
}
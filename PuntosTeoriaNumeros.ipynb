{
  "nbformat": 4,
  "nbformat_minor": 0,
  "metadata": {
    "colab": {
      "name": "PuntosTeoriaNumeros.ipynb",
      "provenance": [],
      "toc_visible": true,
      "authorship_tag": "ABX9TyMEbh+XAi1H/5KWm4zunvaQ",
      "include_colab_link": true
    },
    "kernelspec": {
      "name": "python3",
      "display_name": "Python 3"
    }
  },
  "cells": [
    {
      "cell_type": "markdown",
      "metadata": {
        "id": "view-in-github",
        "colab_type": "text"
      },
      "source": [
        "<a href=\"https://colab.research.google.com/github/andiazo/DiscreteMath2/blob/master/PuntosTeoriaNumeros.ipynb\" target=\"_parent\"><img src=\"https://colab.research.google.com/assets/colab-badge.svg\" alt=\"Open In Colab\"/></a>"
      ]
    },
    {
      "cell_type": "markdown",
      "metadata": {
        "id": "fUQ3CPCGDYNk",
        "colab_type": "text"
      },
      "source": [
        "# Teoría de números\n",
        "\n",
        "Andrés David Díaz Obando\n",
        "\n",
        "* Encuentre los inversos multiplicativos de $a$ para los siguientes valores:\n",
        "\n",
        "Para hallar los inversos multiplicativos modulares de $a$ teniendo en cuenta $n$, hacemos uso del algoritmo extendido de Euclides definido recursivamente.\n",
        "El algoritmo es tomado de https://en.wikibooks.org/wiki/Algorithm_Implementation/Mathematics/Extended_Euclidean_algorithm."
      ]
    },
    {
      "cell_type": "code",
      "metadata": {
        "id": "Krgj1ApFbaK0",
        "colab_type": "code",
        "colab": {}
      },
      "source": [
        "def egcd(a, b):\n",
        "    if a == 0:\n",
        "        return (b, 0, 1)\n",
        "    else:\n",
        "        g, y, x = egcd(b % a, a)\n",
        "        return (g, x - (b // a) * y, y)\n",
        "\n",
        "def inversoMult(a, m):\n",
        "    g, x, y = egcd(a, m)\n",
        "    if g != 1:\n",
        "        raise Exception('No existe inverso multiplicativo modular')\n",
        "    else:\n",
        "        return x % m"
      ],
      "execution_count": null,
      "outputs": []
    },
    {
      "cell_type": "markdown",
      "metadata": {
        "id": "5EARyLv4dIHl",
        "colab_type": "text"
      },
      "source": [
        "  * $a=18$, $n=19$\n"
      ]
    },
    {
      "cell_type": "code",
      "metadata": {
        "id": "RY5Kcw86dLSp",
        "colab_type": "code",
        "colab": {
          "base_uri": "https://localhost:8080/",
          "height": 34
        },
        "outputId": "3382d9b6-c2f8-4349-d8c4-660e15f1181e"
      },
      "source": [
        "print(\"Inverso multiplicativo de a=18 y n=19: \"+str(inversoMult(18,19)))"
      ],
      "execution_count": null,
      "outputs": [
        {
          "output_type": "stream",
          "text": [
            "Inverso multiplicativo de a=18 y n=19: 18\n"
          ],
          "name": "stdout"
        }
      ]
    },
    {
      "cell_type": "markdown",
      "metadata": {
        "id": "NnZyqoasdMNT",
        "colab_type": "text"
      },
      "source": [
        "* $a=10$, $n=57$\n"
      ]
    },
    {
      "cell_type": "code",
      "metadata": {
        "id": "ojATYUAddMcy",
        "colab_type": "code",
        "colab": {
          "base_uri": "https://localhost:8080/",
          "height": 34
        },
        "outputId": "ac25edd8-709e-43b6-8c70-84a42e74d25e"
      },
      "source": [
        "print(\"Inverso multiplicativo de a=10 y n=57: \"+str(inversoMult(10,57)))"
      ],
      "execution_count": null,
      "outputs": [
        {
          "output_type": "stream",
          "text": [
            "Inverso multiplicativo de a=10 y n=57: 40\n"
          ],
          "name": "stdout"
        }
      ]
    },
    {
      "cell_type": "markdown",
      "metadata": {
        "id": "v8Je6FbZdMw5",
        "colab_type": "text"
      },
      "source": [
        "  * $a=43$, $n=96$\n"
      ]
    },
    {
      "cell_type": "code",
      "metadata": {
        "id": "y3hZndw_dNM7",
        "colab_type": "code",
        "colab": {
          "base_uri": "https://localhost:8080/",
          "height": 34
        },
        "outputId": "959f2abd-a49b-4ce2-9a0c-59a7f489270e"
      },
      "source": [
        "print(\"Inverso multiplicativo de a=43 y n=96: \"+str(inversoMult(43,96)))"
      ],
      "execution_count": null,
      "outputs": [
        {
          "output_type": "stream",
          "text": [
            "Inverso multiplicativo de a=43 y n=96: 67\n"
          ],
          "name": "stdout"
        }
      ]
    },
    {
      "cell_type": "markdown",
      "metadata": {
        "id": "F2LNGby1-UVf",
        "colab_type": "text"
      },
      "source": [
        "* Pruebe que $x \\equiv 9\\ (\\textrm{mod}\\ 11)$ si y solo si $3x \\equiv 5\\ (\\textrm{mod}\\ 11)$.\n",
        "\n",
        "Prueba:\n",
        "\n",
        "1.   Si $x \\equiv 9\\ (\\textrm{mod}\\ 11)$ entonces $3x \\equiv 5\\ (\\textrm{mod}\\ 11)$\n",
        "\n",
        "  Si $x \\equiv 9\\ (\\textrm{mod}\\ 11)$ entonces $x = 11k+9$, multiplicamos ambos lados por 3: $3x = 3(11k+9) = 3\\cdot 11k + 27 = 11(3k)+(22+5) = 11(3k)+11(2)+5=11(3k+2)+5$, por tanto $3x \\equiv 5\\ (\\textrm{mod}\\ 11)$.\n",
        "\n",
        "\n",
        "2.   Si $3x \\equiv 5\\ (\\textrm{mod}\\ 11)$ entonces $x \\equiv 9\\ (\\textrm{mod}\\ 11)$\n",
        "\n",
        "  Ahora, si $3x \\equiv 5\\ (\\textrm{mod}\\ 11)$ entonces $3x = 11k + 5$  *** POR COMPLETAR!!!$\\terminar$\n",
        "\n",
        "\n",
        "* Encuentre todos los $x$ tal que $7x+3$ sea divisible por 9. $\\terminar$\n",
        "\n",
        "* Pruebe que para cualquier entero $x$, $x^3-x$ es divisible por 6.$\\terminar$\n",
        "\n",
        "* Encuentre el resto de 111111110888888895 cuando es dividido por 9.\n",
        "\n",
        "  Usamos la prueba de divisibilidad por 9: si un entero es divisible por 9, entonces la suma de sus dígitos es divisible por 9, y viceversa.\n",
        "\n",
        "  Así, la suma de los digitos del número en el enunciado es: $1+1+1+1+1+1+1+1+0+8+8+8+8+8+8+8+9+5=78$, $78$ no es divisible entre $9$, pero $72$ si lo es, $78-76=6$, restamos seis al número del enunciado y sumamos sus digitos: $1+1+1+1+1+1+1+1+0+8+8+8+8+8+8+8+8+9=81$, $81$ es divisible por $9$, por tanto: $111111110888888895\\ (\\textrm{mod}\\ 9)=6$.\n",
        "\n",
        "$\\terminar$\n",
        "\n",
        "* Construya las tablas de adición y multiplicación para $Z_6$.\n"
      ]
    },
    {
      "cell_type": "code",
      "metadata": {
        "id": "rURlPT87A3s_",
        "colab_type": "code",
        "colab": {
          "base_uri": "https://localhost:8080/",
          "height": 306
        },
        "outputId": "d2f80bee-3665-42cf-a421-a7d81153848b"
      },
      "source": [
        "def tablaAdicion(n):\n",
        "  print(\"Tabla de adicion de Z_\"+str(n))\n",
        "  print(\"+|\", end='_')\n",
        "  for i in range(n):\n",
        "    print(i, end='_')\n",
        "  print(\"\")\n",
        "\n",
        "  for i in range(n):\n",
        "    print(i, end='| ')\n",
        "    for j in range(n):\n",
        "      print((i+j)%n, end=' ')\n",
        "    print(\"\")\n",
        "\n",
        "def tablaMultiplicacion(n):\n",
        "  print(\"Tabla de multiplicacion de Z_\"+str(n))\n",
        "  print(\"*|\", end='_')\n",
        "  for i in range(n):\n",
        "    print(i, end='_')\n",
        "  print(\"\")\n",
        "  \n",
        "  for i in range(n):\n",
        "    print(i, end='| ')\n",
        "    for j in range(n):\n",
        "      print((i*j)%n, end=' ')\n",
        "    print(\"\")\n",
        "\n",
        "tablaAdicion(6)\n",
        "print(\"\")\n",
        "tablaMultiplicacion(6)"
      ],
      "execution_count": null,
      "outputs": [
        {
          "output_type": "stream",
          "text": [
            "Tabla de adicion de Z_6\n",
            "+|_0_1_2_3_4_5_\n",
            "0| 0 1 2 3 4 5 \n",
            "1| 1 2 3 4 5 0 \n",
            "2| 2 3 4 5 0 1 \n",
            "3| 3 4 5 0 1 2 \n",
            "4| 4 5 0 1 2 3 \n",
            "5| 5 0 1 2 3 4 \n",
            "\n",
            "Tabla de multiplicacion de Z_6\n",
            "*|_0_1_2_3_4_5_\n",
            "0| 0 0 0 0 0 0 \n",
            "1| 0 1 2 3 4 5 \n",
            "2| 0 2 4 0 2 4 \n",
            "3| 0 3 0 3 0 3 \n",
            "4| 0 4 2 0 4 2 \n",
            "5| 0 5 4 3 2 1 \n"
          ],
          "name": "stdout"
        }
      ]
    },
    {
      "cell_type": "markdown",
      "metadata": {
        "id": "nXPjDHk1_CCt",
        "colab_type": "text"
      },
      "source": [
        "* Para los siguientes pares de enteros $a$, $b$ encuentre el MCD $g$ y los enteros $x$ y $y$ que satisfacen $g = ax+by$\n",
        "  * a=13 y b=32\n",
        "  * a= 55 y b = 300\n",
        "\n",
        "Con ayuda del algoritmo extendido de Euclides, ya definido anteriormente, se halla los enteros que satisfacen la igualdad."
      ]
    },
    {
      "cell_type": "code",
      "metadata": {
        "id": "motF4HPA_Kbx",
        "colab_type": "code",
        "colab": {
          "base_uri": "https://localhost:8080/",
          "height": 51
        },
        "outputId": "8d2a9d7a-e435-4f0f-ed80-738ffc30115b"
      },
      "source": [
        "g,x,y=egcd(13,32)\n",
        "print(\"Para a=13 y b=32: g=\"+str(g)+\", x=\"+str(x)+\", y=\"+str(y))\n",
        "\n",
        "g,x,y=egcd(55,300)\n",
        "print(\"Para a=55 y b=300: g=\"+str(g)+\", x=\"+str(x)+\", y=\"+str(y))"
      ],
      "execution_count": null,
      "outputs": [
        {
          "output_type": "stream",
          "text": [
            "Para a=13 y b=32: g=1, x=5, y=-2\n",
            "Para a=55 y b=300: g=5, x=11, y=-2\n"
          ],
          "name": "stdout"
        }
      ]
    },
    {
      "cell_type": "markdown",
      "metadata": {
        "id": "be-WAh6r-wZ8",
        "colab_type": "text"
      },
      "source": [
        "* Suponga que $g$ es el máximo común divisor de $a$ y $b$. Si $i$ y $j$ son enteros y c=ai+bj, pruebe que $g|c$.$\\terminar$\n",
        "\n",
        "* Si $g = (a,b)$ y $x=ab$ pruebe que $g^2|x$.$\\terminar$\n",
        "\n",
        "* Pruebe que $(F_{n},F_{n-1})=1$ donde $F_n$ es el n-esimo número de Fibonacci.$\\terminar$\n",
        "\n",
        "* Construya las correspondencias entre $Z_{10}$ y  $Z_{2} \\times Z_{5}$.$\\terminar$\n",
        "\n",
        "* Encuentre los residuos mínimos módulo 6 de \t\n",
        "\n",
        "  * $25^{25}$\n",
        "  * $(-9)^{4}$\n",
        "$\\terminar$\n",
        "* Encuentre los residuos mínimos módulo 13 de \t \t\n",
        "\n",
        "  * $54^{4}$\n",
        "  * $(16)^{9}$\n",
        "$\\terminar$\n",
        "* Encuentre los residuos mínimos módulo 11 de \t\n",
        "\n",
        "  * $(-5)^{31}$\n",
        "  * $(13)^{85}$ $\\terminar$"
      ]
    },
    {
      "cell_type": "markdown",
      "metadata": {
        "id": "RE9xE3p-kNsN",
        "colab_type": "text"
      },
      "source": [
        "* Verifique si 0691118809 satisface la verificación de congruencia del ISBN."
      ]
    },
    {
      "cell_type": "code",
      "metadata": {
        "id": "JrAkjGmGlKin",
        "colab_type": "code",
        "colab": {}
      },
      "source": [
        "def isISBN(a10,a9,a8,a7,a6,a5,a4,a3,a2,a1):\n",
        "  x = 10*a10+9*a9+8*a8+7*a7+6*a6+5*a5+4*a4+3*a3+2*a2+a1\n",
        "  if x % 11 == 0:\n",
        "    print(\"El número \"+\n",
        "          str(a10)+str(a9)+str(a8)+str(a7)+str(a6)+str(a5)+str(a4)+str(a3)+str(a2)+str(a1)+\n",
        "          \" satisface la verificación de congruencia del ISBN\")\n",
        "    return True\n",
        "  else: \n",
        "    print(\"El número \"+\n",
        "          str(a10)+str(a9)+str(a8)+str(a7)+str(a6)+str(a5)+str(a4)+str(a3)+str(a2)+str(a1)+\n",
        "          \" NO satisface la verificación de congruencia del ISBN\")\n",
        "  return False"
      ],
      "execution_count": null,
      "outputs": []
    },
    {
      "cell_type": "code",
      "metadata": {
        "id": "QgSufzYEmZ1E",
        "colab_type": "code",
        "colab": {
          "base_uri": "https://localhost:8080/",
          "height": 34
        },
        "outputId": "6b0f1ece-2370-4b0c-931b-f8d80c8328fe"
      },
      "source": [
        "isISBN(0,6,9,1,1,1,8,8,0,9)"
      ],
      "execution_count": null,
      "outputs": [
        {
          "output_type": "stream",
          "text": [
            "El número 0691118809 satisface la verificación de congruencia del ISBN\n"
          ],
          "name": "stdout"
        }
      ]
    }
  ]
}
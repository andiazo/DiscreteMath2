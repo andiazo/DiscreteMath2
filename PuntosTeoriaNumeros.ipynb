{
  "nbformat": 4,
  "nbformat_minor": 0,
  "metadata": {
    "colab": {
      "name": "PuntosTeoriaNumeros.ipynb",
      "provenance": [],
      "collapsed_sections": [],
      "authorship_tag": "ABX9TyMrHUbgHMEQ/Ck/cZs4WdzO",
      "include_colab_link": true
    },
    "kernelspec": {
      "name": "python3",
      "display_name": "Python 3"
    }
  },
  "cells": [
    {
      "cell_type": "markdown",
      "metadata": {
        "id": "view-in-github",
        "colab_type": "text"
      },
      "source": [
        "<a href=\"https://colab.research.google.com/github/andiazo/DiscreteMath2/blob/master/PuntosTeoriaNumeros.ipynb\" target=\"_parent\"><img src=\"https://colab.research.google.com/assets/colab-badge.svg\" alt=\"Open In Colab\"/></a>"
      ]
    },
    {
      "cell_type": "markdown",
      "metadata": {
        "id": "fUQ3CPCGDYNk",
        "colab_type": "text"
      },
      "source": [
        "# Teoría de números\n",
        "\n",
        "Andrés David Díaz Obando\n",
        "\n",
        "* Encuentre los inversos multiplicativos de $a$ para los siguientes valores:\n",
        "\n",
        "Para hallar los inversos multiplicativos modulares de $a$ teniendo en cuenta $n$, hacemos uso del algoritmo extendido de Euclides definido recursivamente.\n",
        "El algoritmo es tomado de https://en.wikibooks.org/wiki/Algorithm_Implementation/Mathematics/Extended_Euclidean_algorithm."
      ]
    },
    {
      "cell_type": "code",
      "metadata": {
        "id": "Krgj1ApFbaK0",
        "colab_type": "code",
        "colab": {
          "base_uri": "https://localhost:8080/",
          "height": 34
        },
        "outputId": "81ac76f6-fd11-4f99-a757-cb1a7d24add2"
      },
      "source": [
        "def egcd(a, b):\n",
        "    if a == 0:\n",
        "        return (b, 0, 1)\n",
        "    else:\n",
        "        g, y, x = egcd(b % a, a)\n",
        "        return (g, x - (b // a) * y, y)\n",
        "\n",
        "def inversoMult(a, m):\n",
        "    g, x, y = egcd(a, m)\n",
        "    if g != 1:\n",
        "        raise Exception('No existe inverso multiplicativo modular')\n",
        "    else:\n",
        "        return x % m\n",
        "\n",
        "print(egcd(7,6))"
      ],
      "execution_count": null,
      "outputs": [
        {
          "output_type": "stream",
          "text": [
            "(1, 1, -1)\n"
          ],
          "name": "stdout"
        }
      ]
    },
    {
      "cell_type": "markdown",
      "metadata": {
        "id": "5EARyLv4dIHl",
        "colab_type": "text"
      },
      "source": [
        "  * $a=18$, $n=19$\n"
      ]
    },
    {
      "cell_type": "code",
      "metadata": {
        "id": "RY5Kcw86dLSp",
        "colab_type": "code",
        "colab": {
          "base_uri": "https://localhost:8080/",
          "height": 34
        },
        "outputId": "3382d9b6-c2f8-4349-d8c4-660e15f1181e"
      },
      "source": [
        "print(\"Inverso multiplicativo de a=18 y n=19: \"+str(inversoMult(18,19)))"
      ],
      "execution_count": null,
      "outputs": [
        {
          "output_type": "stream",
          "text": [
            "Inverso multiplicativo de a=18 y n=19: 18\n"
          ],
          "name": "stdout"
        }
      ]
    },
    {
      "cell_type": "markdown",
      "metadata": {
        "id": "NnZyqoasdMNT",
        "colab_type": "text"
      },
      "source": [
        "* $a=10$, $n=57$\n"
      ]
    },
    {
      "cell_type": "code",
      "metadata": {
        "id": "ojATYUAddMcy",
        "colab_type": "code",
        "colab": {
          "base_uri": "https://localhost:8080/",
          "height": 34
        },
        "outputId": "ac25edd8-709e-43b6-8c70-84a42e74d25e"
      },
      "source": [
        "print(\"Inverso multiplicativo de a=10 y n=57: \"+str(inversoMult(10,57)))"
      ],
      "execution_count": null,
      "outputs": [
        {
          "output_type": "stream",
          "text": [
            "Inverso multiplicativo de a=10 y n=57: 40\n"
          ],
          "name": "stdout"
        }
      ]
    },
    {
      "cell_type": "markdown",
      "metadata": {
        "id": "v8Je6FbZdMw5",
        "colab_type": "text"
      },
      "source": [
        "  * $a=43$, $n=96$\n"
      ]
    },
    {
      "cell_type": "code",
      "metadata": {
        "id": "y3hZndw_dNM7",
        "colab_type": "code",
        "colab": {
          "base_uri": "https://localhost:8080/",
          "height": 34
        },
        "outputId": "959f2abd-a49b-4ce2-9a0c-59a7f489270e"
      },
      "source": [
        "print(\"Inverso multiplicativo de a=43 y n=96: \"+str(inversoMult(43,96)))"
      ],
      "execution_count": null,
      "outputs": [
        {
          "output_type": "stream",
          "text": [
            "Inverso multiplicativo de a=43 y n=96: 67\n"
          ],
          "name": "stdout"
        }
      ]
    },
    {
      "cell_type": "markdown",
      "metadata": {
        "id": "F2LNGby1-UVf",
        "colab_type": "text"
      },
      "source": [
        "\n",
        "---\n",
        "\n",
        "* Pruebe que $x \\equiv 9\\ (\\textrm{mod}\\ 11)$ si y solo si \n",
        "$3x \\equiv 5\\ (\\textrm{mod}\\ 11)$.\n",
        "\n",
        "Prueba:\n",
        "\n",
        "1.   Si $x \\equiv 9\\ (\\textrm{mod}\\ 11)$ entonces $3x \\equiv 5\\ (\\textrm{mod}\\ 11)$\n",
        "\n",
        "  Si $x \\equiv 9\\ (\\textrm{mod}\\ 11)$ entonces $x = 11k+9$, multiplicamos ambos lados por 3: $3x = 3(11k+9) = 3\\cdot 11k + 27 = 11(3k)+(22+5) = 11(3k)+11(2)+5=11(3k+2)+5$, por tanto $3x \\equiv 5\\ (\\textrm{mod}\\ 11)$.\n",
        "\n",
        "\n",
        "2.   Si $3x \\equiv 5\\ (\\textrm{mod}\\ 11)$ entonces $x \\equiv 9\\ (\\textrm{mod}\\ 11)$\n",
        "\n",
        "  Ahora, si $3x \\equiv 5\\ (\\textrm{mod}\\ 11)$ entonces $3x = 11k + 5$, sea $k=3l+2$, entonces $3x=11(3l+2)+5=3\\cdot11l+22+5=3\\cdot11l+27$, multiplicamos ambos lados por $3$ inverso, $x=11l+9 \\rightarrow x\\equiv 9\\ (\\textrm{mod}\\ 11)$, quedando demostrado el enunciado. \n",
        "\n",
        "---\n",
        "\n",
        "* Encuentre todos los $x$ tal que $7x+3$ sea divisible por 9. \n",
        "\n",
        "  $9|7x+3$ es decir $7x+3=9k$ para algún $k \\in \\mathbb{Z}$. $7x=9k-3$, así que $7x\\equiv -3\\ (\\textrm{mod}\\ 9)$, multiplicamos por el inverso de $7$ el cuál es $4$ porque $7\\cdot4 \\ (\\textrm{mod}\\ 9) = 1$, y $-3\\cdot4 \\ (\\textrm{mod}\\ 9) = 6$; quedando entonces $x\\equiv 6\\ (\\textrm{mod}\\ 9)$, y por tanto $x=9l+6$ para cualquier $l\\in\\mathbb{Z}$.\n",
        "\n",
        "---\n",
        "\n",
        "* Pruebe que para cualquier entero $x$, $x^3-x$ es divisible por 6.\n",
        "\n",
        "  Si $x^3-x$ es divisible por 6, entonces es también divisible por 2 y por 3, porque $6=2\\cdot 3$. Probemos que $x^3-x$ es divisible por ambos números.\n",
        "\n",
        "  1.   **Probar que $3 | x^3-x$:** El pequeño teorema de fermat dice que si $p$ es primo, para cada natural $a$, con $a>0$, $a^p\\equiv a\\ (\\textrm{mod}\\ p)$, es decir, $a^p=pk+a$, $a^p-a=pk$ para algún $k\\in \\mathbb{Z}$, esto es lo mismo que decir que $p|a^p-a$. Como $3$ es primo, entonces queda demostrado que $3|x^3-x$.\n",
        "  2.   **Probar que $2|x^3-x$:** $x^3-x = x(x^2-1)$.\n",
        "\n",
        "    **Caso 1:** $x$ es par, es decir $2|x$, $x=2k$ para algún $k \\in \\mathbb{Z}$. Como $2|x$ entonces es evidente que $2|x(x^2-1)$ \n",
        "\n",
        "    **Caso 2:** $x$ es impar, es decir $x=2k+1$ para algún $k\\in\\mathbb{Z}$. $x(x^2-1)= (2k+1)((2k+1)(2k+1)-1)=(2k+1)((4k^2+4k+1)-1)=(2k+1)(2(2k^2+2k))=2(2k+1)(2k^2+2k) \\therefore 2|x^3-x.$\n",
        "\n",
        "    Como $2|x^3-x$ y $3|x^3-x$ entonces $6|x^3-x$.\n",
        "\n",
        "---\n",
        "\n",
        "* Encuentre el resto de 111111110888888895 cuando es dividido por 9.\n",
        "\n",
        "  Usamos la prueba de divisibilidad por 9: si un entero es divisible por 9, entonces la suma de sus dígitos es divisible por 9, y viceversa.\n",
        "\n",
        "  Así, la suma de los digitos del número en el enunciado es: $1+1+1+1+1+1+1+1+0+8+8+8+8+8+8+8+9+5=78$, $78$ no es divisible entre $9$, pero $72$ si lo es, $78-76=6$, restamos seis al número del enunciado y sumamos sus digitos: $1+1+1+1+1+1+1+1+0+8+8+8+8+8+8+8+8+9=81$, $81$ es divisible por $9$, por tanto: $111111110888888895\\ (\\textrm{mod}\\ 9)=6$.\n",
        "\n",
        "\n",
        "---\n",
        "\n",
        "* Construya las tablas de adición y multiplicación para $Z_6$.\n"
      ]
    },
    {
      "cell_type": "code",
      "metadata": {
        "id": "rURlPT87A3s_",
        "colab_type": "code",
        "colab": {
          "base_uri": "https://localhost:8080/",
          "height": 306
        },
        "outputId": "b654a18e-d182-4011-8e26-ae2f6ddd8de9"
      },
      "source": [
        "def tablaAdicion(n):\n",
        "  print(\"Tabla de adicion de Z_\"+str(n))\n",
        "  print(\"+|\", end='_')\n",
        "  for i in range(n):\n",
        "    print(i, end='_')\n",
        "  print(\"\")\n",
        "\n",
        "  for i in range(n):\n",
        "    print(i, end='| ')\n",
        "    for j in range(n):\n",
        "      print((i+j)%n, end=' ')\n",
        "    print(\"\")\n",
        "\n",
        "def tablaMultiplicacion(n):\n",
        "  print(\"Tabla de multiplicacion de Z_\"+str(n))\n",
        "  print(\"*|\", end='_')\n",
        "  for i in range(n):\n",
        "    print(i, end='_')\n",
        "  print(\"\")\n",
        "  \n",
        "  for i in range(n):\n",
        "    print(i, end='| ')\n",
        "    for j in range(n):\n",
        "      print((i*j)%n, end=' ')\n",
        "    print(\"\")\n",
        "\n",
        "tablaAdicion(6)\n",
        "print(\"\")\n",
        "tablaMultiplicacion(6)"
      ],
      "execution_count": null,
      "outputs": [
        {
          "output_type": "stream",
          "text": [
            "Tabla de adicion de Z_6\n",
            "+|_0_1_2_3_4_5_\n",
            "0| 0 1 2 3 4 5 \n",
            "1| 1 2 3 4 5 0 \n",
            "2| 2 3 4 5 0 1 \n",
            "3| 3 4 5 0 1 2 \n",
            "4| 4 5 0 1 2 3 \n",
            "5| 5 0 1 2 3 4 \n",
            "\n",
            "Tabla de multiplicacion de Z_6\n",
            "*|_0_1_2_3_4_5_\n",
            "0| 0 0 0 0 0 0 \n",
            "1| 0 1 2 3 4 5 \n",
            "2| 0 2 4 0 2 4 \n",
            "3| 0 3 0 3 0 3 \n",
            "4| 0 4 2 0 4 2 \n",
            "5| 0 5 4 3 2 1 \n"
          ],
          "name": "stdout"
        }
      ]
    },
    {
      "cell_type": "markdown",
      "metadata": {
        "id": "nXPjDHk1_CCt",
        "colab_type": "text"
      },
      "source": [
        "---\n",
        "* Para los siguientes pares de enteros $a$, $b$ encuentre el MCD $g$ y los enteros $x$ y $y$ que satisfacen $g = ax+by$\n",
        "  * a=13 y b=32\n",
        "  * a= 55 y b = 300\n",
        "\n",
        "Con ayuda del algoritmo extendido de Euclides, ya definido anteriormente, se halla los enteros que satisfacen la igualdad."
      ]
    },
    {
      "cell_type": "code",
      "metadata": {
        "id": "motF4HPA_Kbx",
        "colab_type": "code",
        "colab": {
          "base_uri": "https://localhost:8080/",
          "height": 51
        },
        "outputId": "8d2a9d7a-e435-4f0f-ed80-738ffc30115b"
      },
      "source": [
        "g,x,y=egcd(13,32)\n",
        "print(\"Para a=13 y b=32: g=\"+str(g)+\", x=\"+str(x)+\", y=\"+str(y))\n",
        "\n",
        "g,x,y=egcd(55,300)\n",
        "print(\"Para a=55 y b=300: g=\"+str(g)+\", x=\"+str(x)+\", y=\"+str(y))"
      ],
      "execution_count": null,
      "outputs": [
        {
          "output_type": "stream",
          "text": [
            "Para a=13 y b=32: g=1, x=5, y=-2\n",
            "Para a=55 y b=300: g=5, x=11, y=-2\n"
          ],
          "name": "stdout"
        }
      ]
    },
    {
      "cell_type": "markdown",
      "metadata": {
        "id": "be-WAh6r-wZ8",
        "colab_type": "text"
      },
      "source": [
        "* Suponga que $g$ es el máximo común divisor de $a$ y $b$. Si $i$ y $j$ son enteros y $c=ai+bj$, pruebe que $g|c$.\n",
        "\n",
        "  Si $g$ es el máximo común divisor de $a$ y $b$, entonces $g|a$ y $g|b$, por definición de divisibilidad $a=gk$ para algún $k \\in \\mathbb{Z}$ y $b = gl$ para algún $l \\in \\mathbb{Z}$. Ahora, reemplazamos en la igualdad: $c = ai+bj = gki + glj = g(ki+lj)$, y por tanto queda demostrado que $g|c$ dado que $c=gm$ donde $m=ki+lj\\in\\mathbb{Z}$.\n",
        "\n",
        "---\n",
        "\n",
        "* Si $g = (a,b)$ y $x=ab$ pruebe que $g^2|x$.\n",
        "\n",
        "  Si $g = (a,b)$, entonces $g|a$ y $g|b$, por definición de divisibilidad tenemos que: $a=gk$ y $b=gl$ para algún $k,l \\in \\mathbb{Z}$ enteros. Luego, $x=ab=gk\\cdot gl=g\\cdot g\\cdot(kl)=g^2\\cdot (kl)$, así, por definición de divisibilidad, queda demostrado que $g^2|x$.\n",
        "\n",
        "---\n",
        "\n",
        "* Pruebe que $(F_{n},F_{n-1})=1$ donde $F_n$ es el n-esimo número de Fibonacci.\n",
        "\n",
        "  **Demostración por inducción.**\n",
        "\n",
        "  **Caso base:** Si $n=1$ entonces $(F_n,F_{n-1})=(1,0)=1$.\n",
        "\n",
        "  **Hipótesis:** Suponga que $n=m$ entonces se cumple $(F_m,F_{m-1})=1$.\n",
        "\n",
        "  **Paso inductivo:** Para $n=m+1$ entonces por la definición de número de fibonacci $(F_{m+1},F_m) = (F_{m}+F_{m-1},F_{m})$ pero dado la siguiente propiedad del mcd: $(a,an+b)=(a,b)$ para cualquier $a,b,n\\in\\mathbb{Z}$, entonces $(F_{m}+F_{m-1},F_{m})=(F_{m-1}, F_{m})=(F_{m},F_{m-1})=1$ según la hipótesis. Por tanto queda demostrado el enunciado.\n",
        "\n",
        "---\n",
        "\n",
        "* Construya las correspondencias entre $Z_{10}$ y  $Z_{2} \\times Z_{5}$."
      ]
    },
    {
      "cell_type": "code",
      "metadata": {
        "id": "OlqtqvPyT_Vl",
        "colab_type": "code",
        "colab": {
          "base_uri": "https://localhost:8080/",
          "height": 204
        },
        "outputId": "d3fc5397-86c0-45cd-e3a8-add0e9b62e35"
      },
      "source": [
        "def correspondencia(n,m,o):\n",
        "  print(\"Correspondencias entre Z_\"+str(n)+\" y Z_\"+str(m)+\" x Z_\"+str(o))\n",
        "  for i in range(n):\n",
        "    print(str(i)+\"->\"+\"(\"+str(i%m)+\",\"+str(i%o)+\")\")\n",
        "\n",
        "correspondencia(10,2,5)"
      ],
      "execution_count": null,
      "outputs": [
        {
          "output_type": "stream",
          "text": [
            "Correspondencias entre Z_10 y Z_2 x Z_5\n",
            "0->(0,0)\n",
            "1->(1,1)\n",
            "2->(0,2)\n",
            "3->(1,3)\n",
            "4->(0,4)\n",
            "5->(1,0)\n",
            "6->(0,1)\n",
            "7->(1,2)\n",
            "8->(0,3)\n",
            "9->(1,4)\n"
          ],
          "name": "stdout"
        }
      ]
    },
    {
      "cell_type": "markdown",
      "metadata": {
        "id": "DKhdDJiSWKef",
        "colab_type": "text"
      },
      "source": [
        "---\n",
        "**Notación:** Sean $n,k \\in \\mathbb{Z}$, $[n] = nk$, es decir, $[n]$ es múltiplo de $n$. \n",
        "\n",
        "* Encuentre los residuos mínimos módulo 6 de \t\n",
        "\n",
        "  * $25^{25}$\n",
        "    \n",
        "    $25^{25} = (6\\cdot 4 + 1)^{25} = ([6]+1)^{25} = [6] + 1^{25} = [6] + r$, por tanto $r=1$.\n",
        "\n",
        "  * $(-9)^{4}$\n",
        "\n",
        "    $(-9)^{4}=9^{4}=(6+3)^{4}=([6]+3)^{4}=[6]+3^{4}=[6]+(3^2)^2=[6]+([6]+3)^2=[6]+[6]+3^2=[6]+9=[6]+6+3=[6]+3=[6]+r$, por tanto $r=3$.\n",
        "\n",
        "---\n",
        "\n",
        "* Encuentre los residuos mínimos módulo 13 de \t \t\n",
        "\n",
        "  * $54^{4}$\n",
        "\n",
        "    $54^{4} = (13 \\cdot 4 + 2)^{4} = [13] + 2^4 = [13] + 16 = [13] + 13 + 3 = [13] + 3 = [13] + r$, por tanto $r=3$.\n",
        "\n",
        "  * $(16)^{9}$\n",
        "\n",
        "    $16^{9} = (13+3)^9 = [13] + 3^9 = [13] + (3^3)^3 = [13] + (27)^3 = [13] + (13 \\cdot 2 + 1)^3 = [13] + [13] + 1^3 = [13] + 1 = [13] + r$, por tanto $r=1$.\n",
        "\n",
        "---\n",
        "\n",
        "* Encuentre los residuos mínimos módulo 11 de \t\n",
        "\n",
        "  * $(-5)^{31}$\n",
        "\n",
        "    $(-5)^{31} = (-5)\\cdot(-5^2)^{15} = (-5)\\cdot(25)^{15} = (-5)\\cdot(11\\cdot2+3)^{15}=(-5)[11]+(-5)\\cdot 3^{15}=[11]+(-5)\\cdot(3^3)^5 = [11]+(-5)\\cdot(27)^5 = [11]+(-5)\\cdot(11\\cdot2+5)^5=[11]+(-5)[11]+(-5)\\cdot(5)^5=[11]-(5)^6=[11]-(25)^{3} = [11] - (11\\cdot 2 + 3)^3 = [11] - [11] - 3^3 = [11] - 27 = [11] - 11\\cdot 2 - 5 = [11] - 5 = [11] + r$, dado que $[11]-5 = [11] + 6$, entonces $r=6$\n",
        "\n",
        "  * $(13)^{85}$ \n",
        "\n",
        "    $(13)^{85} = (11+2)^{85} = [11] + 2^{85} = [11] + (2^5)^{17} = [11] + (32)^{17} = [11] + (11\\cdot 2 + 10)^{17} = [11] + [11] + 10^{17} = [11] + 10\\cdot(10^2)^{8} = [11] + 10\\cdot(11\\cdot9+1)^8 = [11] + 10\\cdot([11]+1)^8 = [11] + 10\\cdot([11] + 1^8) = [11] + 10\\cdot[11] + 10^8 = [11] + (10^2)^4 = [11] + (11\\cdot9 +1)^4 = [11] + [11] + 1^4 = [11] + 1 = [11] + r$, por tanto $r=1$.\n",
        "\n",
        "---\n"
      ]
    },
    {
      "cell_type": "markdown",
      "metadata": {
        "id": "RE9xE3p-kNsN",
        "colab_type": "text"
      },
      "source": [
        "* Verifique si 0691118809 satisface la verificación de congruencia del ISBN."
      ]
    },
    {
      "cell_type": "code",
      "metadata": {
        "id": "JrAkjGmGlKin",
        "colab_type": "code",
        "colab": {}
      },
      "source": [
        "def isISBN(a10,a9,a8,a7,a6,a5,a4,a3,a2,a1):\n",
        "  x = 10*a10+9*a9+8*a8+7*a7+6*a6+5*a5+4*a4+3*a3+2*a2+a1\n",
        "  if x % 11 == 0:\n",
        "    print(\"El número \"+\n",
        "          str(a10)+str(a9)+str(a8)+str(a7)+str(a6)+str(a5)+str(a4)+str(a3)+str(a2)+str(a1)+\n",
        "          \" satisface la verificación de congruencia del ISBN\")\n",
        "    return True\n",
        "  else: \n",
        "    print(\"El número \"+\n",
        "          str(a10)+str(a9)+str(a8)+str(a7)+str(a6)+str(a5)+str(a4)+str(a3)+str(a2)+str(a1)+\n",
        "          \" NO satisface la verificación de congruencia del ISBN\")\n",
        "  return False"
      ],
      "execution_count": null,
      "outputs": []
    },
    {
      "cell_type": "code",
      "metadata": {
        "id": "QgSufzYEmZ1E",
        "colab_type": "code",
        "colab": {
          "base_uri": "https://localhost:8080/",
          "height": 34
        },
        "outputId": "6b0f1ece-2370-4b0c-931b-f8d80c8328fe"
      },
      "source": [
        "isISBN(0,6,9,1,1,1,8,8,0,9)"
      ],
      "execution_count": null,
      "outputs": [
        {
          "output_type": "stream",
          "text": [
            "El número 0691118809 satisface la verificación de congruencia del ISBN\n"
          ],
          "name": "stdout"
        }
      ]
    }
  ]
}
{
  "nbformat": 4,
  "nbformat_minor": 0,
  "metadata": {
    "kernelspec": {
      "display_name": "Python 3",
      "language": "python",
      "name": "python3"
    },
    "language_info": {
      "codemirror_mode": {
        "name": "ipython",
        "version": 3
      },
      "file_extension": ".py",
      "mimetype": "text/x-python",
      "name": "python",
      "nbconvert_exporter": "python",
      "pygments_lexer": "ipython3",
      "version": "3.6.5"
    },
    "colab": {
      "name": "algoritmoRSA.ipynb",
      "provenance": [],
      "include_colab_link": true
    }
  },
  "cells": [
    {
      "cell_type": "markdown",
      "metadata": {
        "id": "view-in-github",
        "colab_type": "text"
      },
      "source": [
        "<a href=\"https://colab.research.google.com/github/andiazo/DiscreteMath2/blob/master/RSA/algoritmoRSA.ipynb\" target=\"_parent\"><img src=\"https://colab.research.google.com/assets/colab-badge.svg\" alt=\"Open In Colab\"/></a>"
      ]
    },
    {
      "cell_type": "markdown",
      "metadata": {
        "id": "Kg8ibBXJWQjc",
        "colab_type": "text"
      },
      "source": [
        "# Algoritmo RSA"
      ]
    },
    {
      "cell_type": "markdown",
      "metadata": {
        "id": "JCiIww5aWQjf",
        "colab_type": "text"
      },
      "source": [
        "# Problema"
      ]
    },
    {
      "cell_type": "markdown",
      "metadata": {
        "id": "wcUrgO5nWQji",
        "colab_type": "text"
      },
      "source": [
        "El algoritmo RSA fue creado por Rivest, Shamir y Adleman.\n",
        "\n",
        "El problema matemático en que se basa RSA es en la factorización de un numero entero $n$, producto de dos primos ($p$ y $q$), esto requiere un coste computacional muy grande, y en esto está la principal medida de seguridad del algoritmo."
      ]
    },
    {
      "cell_type": "markdown",
      "metadata": {
        "id": "pk7w7w1LWQjk",
        "colab_type": "text"
      },
      "source": [
        "# Generación de claves"
      ]
    },
    {
      "cell_type": "markdown",
      "metadata": {
        "id": "rPNzIEtYWQjm",
        "colab_type": "text"
      },
      "source": [
        "1. Se eligen dos números primos distintos $p$ y $q$"
      ]
    },
    {
      "cell_type": "code",
      "metadata": {
        "id": "tmgvFdZIWQjn",
        "colab_type": "code",
        "colab": {},
        "outputId": "d0d658f7-88fe-4f67-8e74-45cc3d5a0615"
      },
      "source": [
        "import random as r \n",
        "\n",
        "print(\"Calculando primos p y q ...\")\n",
        "p = 31\n",
        "q = 127\n",
        "print(\"p y q calculados.\")\n",
        "strp = str(p)\n",
        "strq = str(q)\n",
        "print (\"p: \" + strp)\n",
        "print(\"q: \" + strq)"
      ],
      "execution_count": null,
      "outputs": [
        {
          "output_type": "stream",
          "text": [
            "Calculando primos p y q ...\n",
            "p y q calculados.\n",
            "p: 31\n",
            "q: 127\n"
          ],
          "name": "stdout"
        }
      ]
    },
    {
      "cell_type": "markdown",
      "metadata": {
        "id": "S5veUqndWQj7",
        "colab_type": "text"
      },
      "source": [
        "2. Se calcula $n = p \\cdot q$"
      ]
    },
    {
      "cell_type": "code",
      "metadata": {
        "id": "NCivJP-hWQj8",
        "colab_type": "code",
        "colab": {},
        "outputId": "85393e5d-8579-46fe-e28d-86e76cb281a2"
      },
      "source": [
        "print(\"Calculando n...\")\n",
        "n=p*q\n",
        "print(\"n calculado.\")\n",
        "strn = str(n)\n",
        "print(\"n: \" + strn)"
      ],
      "execution_count": null,
      "outputs": [
        {
          "output_type": "stream",
          "text": [
            "Calculando n...\n",
            "n calculado.\n",
            "n: 3937\n"
          ],
          "name": "stdout"
        }
      ]
    },
    {
      "cell_type": "markdown",
      "metadata": {
        "id": "seXdfg3qWQkC",
        "colab_type": "text"
      },
      "source": [
        "3. Con la función de euler se calcula $\\phi (n) = (p-1) \\cdot (q-1)$. Esto dado que $n=p\\cdot q$ y la función de euler tiene la propiedad que si $p$ y $q$ son primos relativos, entonces $\\phi (pq) = \\phi (p) \\phi (q)$."
      ]
    },
    {
      "cell_type": "code",
      "metadata": {
        "id": "RwCrtWBsWQkE",
        "colab_type": "code",
        "colab": {},
        "outputId": "808b02f7-7d03-434e-9b2b-f1aaca829ad7"
      },
      "source": [
        "print(\"Calculando phi(n)...\")\n",
        "phi_n = (p-1) * (q-1)\n",
        "print(\"phi(n) calculado.\")\n",
        "strphi_n = str(phi_n)\n",
        "print(\"phi(n): \" + strphi_n)"
      ],
      "execution_count": null,
      "outputs": [
        {
          "output_type": "stream",
          "text": [
            "Calculando phi(n)...\n",
            "phi(n) calculado.\n",
            "phi(n): 3780\n"
          ],
          "name": "stdout"
        }
      ]
    },
    {
      "cell_type": "markdown",
      "metadata": {
        "id": "FC_GlS5xWQkL",
        "colab_type": "text"
      },
      "source": [
        "4. Se escoge un $e < \\phi (n)$, que sea coprimo con $\\phi (n)$"
      ]
    },
    {
      "cell_type": "code",
      "metadata": {
        "id": "742dkUp3WQkM",
        "colab_type": "code",
        "colab": {},
        "outputId": "251077ba-ec8c-4aa3-abcd-a4dd59c786be"
      },
      "source": [
        "def mcd(a, b): #Máximo común divisor\n",
        "    resto = 0\n",
        "    while(b > 0):\n",
        "        resto = b\n",
        "        b = a % b\n",
        "        a = resto\n",
        "    return a\n",
        "\n",
        "def hallarCoprimo(a, b): #Si mcd(A,B) = 1 entonces son coprimos\n",
        "    maxcd = mcd(a,b)\n",
        "    if(maxcd == 1):\n",
        "        return a\n",
        "    else:\n",
        "        a = a+1\n",
        "        return hallarCoprimo(a, b)\n",
        "\n",
        "e = r.randint(2,(phi_n-1))\n",
        "print(\"Hallando e coprimo de phi(n)...\")\n",
        "e = hallarCoprimo(e, phi_n)\n",
        "stre = str(e)\n",
        "print(\"e: \" + stre)\n",
        "prueba = mcd(e,phi_n)\n",
        "print(\"Verificando que son coprimos...\")\n",
        "print(\"MCD(e,phi(n))= \" + str(prueba))"
      ],
      "execution_count": null,
      "outputs": [
        {
          "output_type": "stream",
          "text": [
            "Hallando e coprimo de phi(n)...\n",
            "e: 2099\n",
            "Verificando que son coprimos...\n",
            "MCD(e,phi(n))= 1\n"
          ],
          "name": "stdout"
        }
      ]
    },
    {
      "cell_type": "markdown",
      "metadata": {
        "id": "xYv6RShQWQkQ",
        "colab_type": "text"
      },
      "source": [
        "5. Se determina un $d$ que satisfaga la congruencia $e\\cdot d \\equiv 1$ $(mod \\ \\phi (n))$"
      ]
    },
    {
      "cell_type": "code",
      "metadata": {
        "id": "W7ULIKGSWQkR",
        "colab_type": "code",
        "colab": {},
        "outputId": "131ab128-f71d-4cf9-e2ff-94f878a3d130"
      },
      "source": [
        "def resolverCongruencia(a, b, m): #ax \\equiv b (mod m)\n",
        "    if b == 0:\n",
        "        return 0\n",
        "    if a < 0:\n",
        "        a = -a\n",
        "        b = -b\n",
        "    b %= m\n",
        "    while a > m:\n",
        "        a -= m\n",
        "    return (m * resolverCongruencia(m, -b, a) + b) // a\n",
        "\n",
        "print(\"Hallando d resolviendo la congruencia...\")\n",
        "d = resolverCongruencia(e,1,phi_n)\n",
        "print(str(d) + \" Satisface la congruencia\")"
      ],
      "execution_count": null,
      "outputs": [
        {
          "output_type": "stream",
          "text": [
            "Hallando d resolviendo la congruencia...\n",
            "2939 Satisface la congruencia\n"
          ],
          "name": "stdout"
        }
      ]
    },
    {
      "cell_type": "markdown",
      "metadata": {
        "id": "bVP2kMeTWQkb",
        "colab_type": "text"
      },
      "source": [
        "La **clave pública** es $(n,e)$. La **clave privada** es $(n,d)$"
      ]
    },
    {
      "cell_type": "code",
      "metadata": {
        "id": "VeCSFJljWQkd",
        "colab_type": "code",
        "colab": {},
        "outputId": "47b0a7b2-6569-42ae-e4c6-5afc8359b81e"
      },
      "source": [
        "print(\"Clave pública: (\" + str(n) + \", \" + str(e) + \")\" )\n",
        "print(\"Clave privada: (\" + str(n) + \", \" + str(d) + \")\" )"
      ],
      "execution_count": null,
      "outputs": [
        {
          "output_type": "stream",
          "text": [
            "Clave pública: (3937, 2099)\n",
            "Clave privada: (3937, 2939)\n"
          ],
          "name": "stdout"
        }
      ]
    },
    {
      "cell_type": "markdown",
      "metadata": {
        "id": "7LY2JuHNWQkj",
        "colab_type": "text"
      },
      "source": [
        "# Cifrado"
      ]
    },
    {
      "cell_type": "markdown",
      "metadata": {
        "id": "RfkPhUaWWQkk",
        "colab_type": "text"
      },
      "source": [
        "Para cifrar un mensaje $M$. Primero se convierte $M$ en un entero $m$, (con un protocolo arcodado y reversible) menor que $n$. Luego se computa el mensaje cifrado $c$ mediante la operación:\n",
        "    \n",
        "$c \\equiv m^{e}$ $(mod$ $n)$    "
      ]
    },
    {
      "cell_type": "code",
      "metadata": {
        "id": "_paYwhNzWQkm",
        "colab_type": "code",
        "colab": {},
        "outputId": "1ddf7b25-6456-47d1-f2e7-f38b59dfbea8"
      },
      "source": [
        "m = 321\n",
        "print(\"Mensaje: \" + str(m))"
      ],
      "execution_count": null,
      "outputs": [
        {
          "output_type": "stream",
          "text": [
            "Mensaje: 321\n"
          ],
          "name": "stdout"
        }
      ]
    },
    {
      "cell_type": "code",
      "metadata": {
        "id": "vIo_uB77WQko",
        "colab_type": "code",
        "colab": {},
        "outputId": "c719d4eb-f877-48c9-ab18-9cbe33672b76"
      },
      "source": [
        "print(\"Cifrando \" + str(m))\n",
        "c = int(m) ** e % n\n",
        "print(\"Cifrado: \" + str(c))"
      ],
      "execution_count": null,
      "outputs": [
        {
          "output_type": "stream",
          "text": [
            "Cifrando 321\n",
            "Cifrado: 2745\n"
          ],
          "name": "stdout"
        }
      ]
    },
    {
      "cell_type": "markdown",
      "metadata": {
        "id": "_vPr-SBAWQkt",
        "colab_type": "text"
      },
      "source": [
        "# Descifrado"
      ]
    },
    {
      "cell_type": "markdown",
      "metadata": {
        "id": "21NkkLniWQku",
        "colab_type": "text"
      },
      "source": [
        "Para recuperar el mensaje $m$ a partir de $c$ usando su exponente $d$ de la clave privada se realiza el siguiente cálculo:\n",
        "\n",
        "$m \\equiv c^{d}$ $(mod$ $n)$"
      ]
    },
    {
      "cell_type": "code",
      "metadata": {
        "id": "SvWtqStLWQkv",
        "colab_type": "code",
        "colab": {},
        "outputId": "85712629-68ca-4a6b-bf1f-cbc1875ad20a"
      },
      "source": [
        "descifrado = c**d % n\n",
        "print(\"Descifrado: \" + str(descifrado))"
      ],
      "execution_count": null,
      "outputs": [
        {
          "output_type": "stream",
          "text": [
            "Descifrado: 321\n"
          ],
          "name": "stdout"
        }
      ]
    },
    {
      "cell_type": "markdown",
      "metadata": {
        "id": "bup5VEr-WQk4",
        "colab_type": "text"
      },
      "source": [
        "Ahora con $m$ puede convertirlo a $M$.\n",
        "\n",
        "En la implementación que se presenta a continuación, para convertir de $m$ a $M$ y viceversa se hace uso del protocolo ASCII.\n"
      ]
    },
    {
      "cell_type": "markdown",
      "metadata": {
        "id": "vRtAttqKmVNK",
        "colab_type": "text"
      },
      "source": [
        "# ¿Por qué funciona?\n",
        "\n",
        "El motivo de que la exponenciación del mensaje cifrado con $d$ sea la operación inversa a la exponenciación del mensaje plano con $e$ se da por la definición de los exponentes $d$ y $e$.\n",
        "\n",
        "$c^d = (m^e)^d=m^{e \\cdot d} = m\\cdot m^{e \\cdot d - 1} = m \\cdot m^{k\\cdot \\phi(n)} \\equiv m \\ \\ mod \\ n = m$.\n",
        "\n",
        "Para entender el proceso anterior es necesario considerar:\n",
        "\n",
        "* $e\\cdot d \\equiv 1 \\ (mod \\ \\phi(n))$, por tanto $e\\cdot d -1 = k\\cdot \\phi (n)$.\n",
        "* Teorema de Euler: para todo par de enteros $a$ y $n$ relativamente primos se cumple que $a^{\\phi (n)} \\equiv 1 \\ (mod \\ n)$. En este caso: $m^{\\phi(n)} \\ mod \\ n = 1$.\n",
        "* Se supone que $mcd(m,n)=1$, por esto es necesario usar $p$ y $q$ grandes."
      ]
    },
    {
      "cell_type": "markdown",
      "metadata": {
        "id": "gJe624qnWQk9",
        "colab_type": "text"
      },
      "source": [
        "# Implementación"
      ]
    },
    {
      "cell_type": "code",
      "metadata": {
        "id": "3uLaEiXZWQlD",
        "colab_type": "code",
        "colab": {}
      },
      "source": [
        "#Importando librerías\n",
        "import random as r\n",
        "#Definiendo funciones\n",
        "def mcd(a, b): #Máximo común divisor\n",
        "    resto = 0\n",
        "    while(b > 0):\n",
        "        resto = b\n",
        "        b = a % b\n",
        "        a = resto\n",
        "    return a\n",
        "\n",
        "def hallarCoprimo(a, b): #Si mcd(A,B) = 1 entonces son coprimos\n",
        "    maxcd = mcd(a,b)\n",
        "    if(maxcd == 1):\n",
        "        return a\n",
        "    else:\n",
        "        a = a + 1\n",
        "        return hallarCoprimo(a, b)\n",
        "    \n",
        "def resolverCongruencia(a, b, m): #ax \\equiv b (mod m)\n",
        "    if b == 0:\n",
        "        return 0\n",
        "    if a < 0:\n",
        "        a = -a\n",
        "        b = -b\n",
        "    b %= m\n",
        "    while a > m:\n",
        "        a -= m\n",
        "    return (m * resolverCongruencia(m, -b, a) + b) // a\n",
        "\n",
        "def powerModInt(a,k,n):\n",
        "    b = 1\n",
        "    if k == 0:\n",
        "        return b\n",
        " \n",
        "    while k>=1:\n",
        " \n",
        "        if k&1:\n",
        "            b = (b*a)%n\n",
        "        a =(a*a)%n\n",
        "        k=k>>1\n",
        " \n",
        "    return b\n",
        "\n",
        "def esPrimo(p): #Test primalidad Miller Rabin\n",
        "    #Primero comprobamos que sea impar.\n",
        "    if 1&p==0:\n",
        "        return False\n",
        "    #Expresamos p-1 como 2^u*s, con s impar.\n",
        "    s = p-1\n",
        "    #Dividir s por 2 hasta que el resultado sea impar.\n",
        "    u = 0\n",
        "    while 1&s==0:\n",
        "        u= u+1\n",
        "        s = s >> 1\n",
        "    print(p,\"= 2^\",u,\"*\",s)\n",
        "    for _ in range(20):#Ejecuciones para reducir las probabiliades de fallo.\n",
        "        #Elegimos a al azar tal que 2 <= a <= p-2\n",
        "        a = r.randint(2, p - 2)\n",
        "        a = powerModInt(a,s,p)\n",
        "        if a == 1 or a == p-1:#p-1 = -1\n",
        "            return True\n",
        "        else:\n",
        "            for i in [1,1,u-1]:\n",
        "                a = powerModInt(a,2,p)\n",
        "                if a == p-1:\n",
        "                    return True\n",
        "                elif a == 1:\n",
        "                    return False\n",
        "                i=i+1\n",
        "            return False\n",
        "        \n",
        "def encrypt(m):\n",
        "    c = m ** e % n\n",
        "    return c\n",
        "\n",
        "def decrypt(c):\n",
        "    m = c ** d % n\n",
        "    return m"
      ],
      "execution_count": 15,
      "outputs": []
    },
    {
      "cell_type": "code",
      "metadata": {
        "id": "LExesRGjWQlH",
        "colab_type": "code",
        "colab": {
          "base_uri": "https://localhost:8080/",
          "height": 357
        },
        "outputId": "d69f95c5-7847-4e57-e995-60baf9035229"
      },
      "source": [
        "#Eligiendo p y q\n",
        "print(\"Calculando p y q...\")\n",
        "\n",
        "p = 401\n",
        "q = 1567\n",
        "\n",
        "strp = str(p)\n",
        "strq = str(q)\n",
        "\n",
        "print(\"p: \" + strp)\n",
        "print(\"q: \" + strq)\n",
        "\n",
        "#Calculando n = p*q\n",
        "print(\"\\nCalculando n...\")\n",
        "\n",
        "n = p * q\n",
        "strn = str(n)\n",
        "print(\"n: \" + strn)\n",
        "\n",
        "#Calculando phi(n)\n",
        "print(\"Calculando phi(n)...\")\n",
        "\n",
        "phi_n = (p-1) * (q-1)\n",
        "\n",
        "strphi_n = str(phi_n)\n",
        "print(\"phi(n): \" + strphi_n)\n",
        "\n",
        "#Hallando e < phi(n)\n",
        "print(\"\\nHallando e coprimo de phi(n)...\")\n",
        "\n",
        "e = r.randint(2,(phi_n-1))\n",
        "e = hallarCoprimo(e, phi_n)\n",
        "\n",
        "stre = str(e)\n",
        "print(\"e: \" + stre)\n",
        "\n",
        "prueba = mcd(e,phi_n)\n",
        "print(\"\\nVerificando que son coprimos...\")\n",
        "print(\"MCD(e,phi(n))= \" + str(prueba))\n",
        "\n",
        "#Hallando d que resuelve la congruencia e*d = 1 (mod phi(n))\n",
        "print(\"\\nHallando d resolviendo la congruencia...\")\n",
        "\n",
        "d = resolverCongruencia(e,1,phi_n)\n",
        "\n",
        "strd = str(d)\n",
        "print(\"d: \" + strd + \" satisface la congruencia\")\n",
        "\n",
        "#Imprimiendo clave pública y privada\n",
        "print(\"\\nClave pública: (\" + strn + \", \" + stre + \")\" )\n",
        "print(\"Clave privada: (\" + strn + \", \" + strd + \")\" )\n"
      ],
      "execution_count": 6,
      "outputs": [
        {
          "output_type": "stream",
          "text": [
            "Calculando p y q...\n",
            "p: 401\n",
            "q: 1567\n",
            "\n",
            "Calculando n...\n",
            "n: 628367\n",
            "Calculando phi(n)...\n",
            "phi(n): 626400\n",
            "\n",
            "Hallando e coprimo de phi(n)...\n",
            "e: 288089\n",
            "\n",
            "Verificando que son coprimos...\n",
            "MCD(e,phi(n))= 1\n",
            "\n",
            "Hallando d resolviendo la congruencia...\n",
            "d: 195209 satisface la congruencia\n",
            "\n",
            "Clave pública: (628367, 288089)\n",
            "Clave privada: (628367, 195209)\n"
          ],
          "name": "stdout"
        }
      ]
    },
    {
      "cell_type": "code",
      "metadata": {
        "id": "vY05PQD-WQlL",
        "colab_type": "code",
        "colab": {
          "base_uri": "https://localhost:8080/",
          "height": 85
        },
        "outputId": "1ba312f0-313b-462b-9195-5b5b17ce0662"
      },
      "source": [
        "##Encriptar\n",
        "m = input(\"\\nInserte mensaje m: \")\n",
        "print(\"Encriptando mensaje...\")\n",
        "listac = []\n",
        "for a in m:\n",
        "  listac.append(encrypt(int(ord(a))))\n",
        "\n",
        "for c in listac:\n",
        "  print(c, end=\" \")\n",
        "\n"
      ],
      "execution_count": 17,
      "outputs": [
        {
          "output_type": "stream",
          "text": [
            "\n",
            "Inserte mensaje m: David\n",
            "Encriptando mensaje...\n",
            "184376 509652 155445 127895 518248 "
          ],
          "name": "stdout"
        }
      ]
    },
    {
      "cell_type": "code",
      "metadata": {
        "id": "F6iutdyrWQlP",
        "colab_type": "code",
        "colab": {
          "base_uri": "https://localhost:8080/",
          "height": 51
        },
        "outputId": "2053ecd6-5e31-4613-b2d9-c92de55f7e8e"
      },
      "source": [
        "##Desencriptar\n",
        "m = \"\"\n",
        "print(\"Desencriptando mensaje...\")\n",
        "for c in listac:\n",
        "  m += chr(decrypt(c))\n",
        "print(\"Mensaje desencriptado m: \" + m)"
      ],
      "execution_count": 18,
      "outputs": [
        {
          "output_type": "stream",
          "text": [
            "Desencriptando mensaje...\n",
            "Mensaje desencriptado m: David\n"
          ],
          "name": "stdout"
        }
      ]
    }
  ]
}
{
 "cells": [
  {
   "cell_type": "markdown",
   "metadata": {},
   "source": [
    "# Algoritmo RSA"
   ]
  },
  {
   "cell_type": "markdown",
   "metadata": {},
   "source": [
    "# Problema"
   ]
  },
  {
   "cell_type": "markdown",
   "metadata": {},
   "source": [
    "El algoritmo RSA fue creado por Rivest, Shamir y Adleman.\n",
    "\n",
    "El problema matemático en que se basa RSA es la factorización de números primos."
   ]
  },
  {
   "cell_type": "markdown",
   "metadata": {},
   "source": [
    "# Generación de claves"
   ]
  },
  {
   "cell_type": "markdown",
   "metadata": {},
   "source": [
    "1. Se eligen dos números primos distintos $p$ y $q$"
   ]
  },
  {
   "cell_type": "code",
   "execution_count": 2,
   "metadata": {},
   "outputs": [
    {
     "name": "stdout",
     "output_type": "stream",
     "text": [
      "Calculando primos p y q ...\n",
      "p y q calculados.\n",
      "p: 31\n",
      "q: 127\n"
     ]
    }
   ],
   "source": [
    "import random as r \n",
    "\n",
    "print(\"Calculando primos p y q ...\")\n",
    "p = 31\n",
    "q = 127\n",
    "print(\"p y q calculados.\")\n",
    "strp = str(p)\n",
    "strq = str(q)\n",
    "print (\"p: \" + strp)\n",
    "print(\"q: \" + strq)"
   ]
  },
  {
   "cell_type": "markdown",
   "metadata": {},
   "source": [
    "2. Se calcula $n = p \\cdot q$"
   ]
  },
  {
   "cell_type": "code",
   "execution_count": 3,
   "metadata": {},
   "outputs": [
    {
     "name": "stdout",
     "output_type": "stream",
     "text": [
      "Calculando n...\n",
      "n calculado.\n",
      "n: 3937\n"
     ]
    }
   ],
   "source": [
    "print(\"Calculando n...\")\n",
    "n=p*q\n",
    "print(\"n calculado.\")\n",
    "strn = str(n)\n",
    "print(\"n: \" + strn)"
   ]
  },
  {
   "cell_type": "markdown",
   "metadata": {},
   "source": [
    "3. Con la función de euler se calcula $\\phi (n) = (p-1) \\cdot (c-1)$"
   ]
  },
  {
   "cell_type": "code",
   "execution_count": 4,
   "metadata": {},
   "outputs": [
    {
     "name": "stdout",
     "output_type": "stream",
     "text": [
      "Calculando phi(n)...\n",
      "phi(n) calculado.\n",
      "phi(n): 3780\n"
     ]
    }
   ],
   "source": [
    "print(\"Calculando phi(n)...\")\n",
    "phi_n = (p-1) * (q-1)\n",
    "print(\"phi(n) calculado.\")\n",
    "strphi_n = str(phi_n)\n",
    "print(\"phi(n): \" + strphi_n)"
   ]
  },
  {
   "cell_type": "markdown",
   "metadata": {},
   "source": [
    "4. Se escoge un $e < \\phi (n)$, que sea coprimo con $\\phi (n)$"
   ]
  },
  {
   "cell_type": "code",
   "execution_count": 5,
   "metadata": {},
   "outputs": [
    {
     "name": "stdout",
     "output_type": "stream",
     "text": [
      "Hallando e coprimo de phi(n)...\n",
      "e: 2099\n",
      "Verificando que son coprimos...\n",
      "MCD(e,phi(n))= 1\n"
     ]
    }
   ],
   "source": [
    "def mcd(a, b): #Máximo común divisor\n",
    "    resto = 0\n",
    "    while(b > 0):\n",
    "        resto = b\n",
    "        b = a % b\n",
    "        a = resto\n",
    "    return a\n",
    "\n",
    "def hallarCoprimo(a, b): #Si mcd(A,B) = 1 entonces son coprimos\n",
    "    maxcd = mcd(a,b)\n",
    "    if(maxcd == 1):\n",
    "        return a\n",
    "    else:\n",
    "        a = a+1\n",
    "        return hallarCoprimo(a, b)\n",
    "\n",
    "e = r.randint(2,(phi_n-1))\n",
    "print(\"Hallando e coprimo de phi(n)...\")\n",
    "e = hallarCoprimo(e, phi_n)\n",
    "stre = str(e)\n",
    "print(\"e: \" + stre)\n",
    "prueba = mcd(e,phi_n)\n",
    "print(\"Verificando que son coprimos...\")\n",
    "print(\"MCD(e,phi(n))= \" + str(prueba))"
   ]
  },
  {
   "cell_type": "markdown",
   "metadata": {},
   "source": [
    "5. Se determina un $d$ que satisfaga la congruencia $e\\cdot d \\equiv 1$ $(mod \\phi (n))$"
   ]
  },
  {
   "cell_type": "code",
   "execution_count": 6,
   "metadata": {},
   "outputs": [
    {
     "name": "stdout",
     "output_type": "stream",
     "text": [
      "Hallando d resolviendo la congruencia...\n",
      "2939 Satisface la congruencia\n"
     ]
    }
   ],
   "source": [
    "def resolverCongruencia(a, b, m): #ax \\equiv b (mod m)\n",
    "    if b == 0:\n",
    "        return 0\n",
    "    if a < 0:\n",
    "        a = -a\n",
    "        b = -b\n",
    "    b %= m\n",
    "    while a > m:\n",
    "        a -= m\n",
    "    return (m * resolverCongruencia(m, -b, a) + b) // a\n",
    "\n",
    "print(\"Hallando d resolviendo la congruencia...\")\n",
    "d = resolverCongruencia(e,1,phi_n)\n",
    "print(str(d) + \" Satisface la congruencia\")"
   ]
  },
  {
   "cell_type": "markdown",
   "metadata": {},
   "source": [
    "La **clave pública** es $(n,e)$. La **clave privada** es $(n,d)$"
   ]
  },
  {
   "cell_type": "code",
   "execution_count": 7,
   "metadata": {},
   "outputs": [
    {
     "name": "stdout",
     "output_type": "stream",
     "text": [
      "Clave pública: (3937, 2099)\n",
      "Clave privada: (3937, 2939)\n"
     ]
    }
   ],
   "source": [
    "print(\"Clave pública: (\" + str(n) + \", \" + str(e) + \")\" )\n",
    "print(\"Clave privada: (\" + str(n) + \", \" + str(d) + \")\" )"
   ]
  },
  {
   "cell_type": "markdown",
   "metadata": {},
   "source": [
    "# Cifrado"
   ]
  },
  {
   "cell_type": "markdown",
   "metadata": {},
   "source": [
    "Para cifrar un mensaje $M$. Primero se convierte $M$ en un entero $m$, (con un protocolo arcodado y reversible) menor que $n$. Luego se computa el mensaje cifrado $c$ mediante la operación:\n",
    "    \n",
    "$c \\equiv m^{e}$ $(mod$ $n)$    "
   ]
  },
  {
   "cell_type": "code",
   "execution_count": 8,
   "metadata": {},
   "outputs": [
    {
     "name": "stdout",
     "output_type": "stream",
     "text": [
      "Mensaje: 321\n"
     ]
    }
   ],
   "source": [
    "m = 321\n",
    "print(\"Mensaje: \" + str(m))"
   ]
  },
  {
   "cell_type": "code",
   "execution_count": 9,
   "metadata": {},
   "outputs": [
    {
     "name": "stdout",
     "output_type": "stream",
     "text": [
      "Cifrando 321\n",
      "Cifrado: 2745\n"
     ]
    }
   ],
   "source": [
    "print(\"Cifrando \" + str(m))\n",
    "c = int(m) ** e % n\n",
    "print(\"Cifrado: \" + str(c))"
   ]
  },
  {
   "cell_type": "markdown",
   "metadata": {},
   "source": [
    "# Descifrado"
   ]
  },
  {
   "cell_type": "markdown",
   "metadata": {},
   "source": [
    "Para recuperar el mensaje $m$ a partir de $c$ usando su exponente $d$ de la clave privada se realiza el siguiente cálculo:\n",
    "\n",
    "$m \\equiv c^{d}$ $(mod$ $n)$"
   ]
  },
  {
   "cell_type": "code",
   "execution_count": 10,
   "metadata": {},
   "outputs": [
    {
     "name": "stdout",
     "output_type": "stream",
     "text": [
      "Descifrado: 321\n"
     ]
    }
   ],
   "source": [
    "descifrado = c**d % n\n",
    "print(\"Descifrado: \" + str(descifrado))"
   ]
  },
  {
   "cell_type": "markdown",
   "metadata": {},
   "source": [
    "Ahora con $m$ puede convertirlo a $M$"
   ]
  },
  {
   "cell_type": "code",
   "execution_count": null,
   "metadata": {},
   "outputs": [],
   "source": []
  },
  {
   "cell_type": "markdown",
   "metadata": {},
   "source": [
    "# Implementación"
   ]
  },
  {
   "cell_type": "code",
   "execution_count": 11,
   "metadata": {},
   "outputs": [],
   "source": [
    "#Importando librerías\n",
    "import random as r"
   ]
  },
  {
   "cell_type": "code",
   "execution_count": 18,
   "metadata": {},
   "outputs": [],
   "source": [
    "#Definiendo funciones\n",
    "def mcd(a, b): #Máximo común divisor\n",
    "    resto = 0\n",
    "    while(b > 0):\n",
    "        resto = b\n",
    "        b = a % b\n",
    "        a = resto\n",
    "    return a\n",
    "\n",
    "def hallarCoprimo(a, b): #Si mcd(A,B) = 1 entonces son coprimos\n",
    "    maxcd = mcd(a,b)\n",
    "    if(maxcd == 1):\n",
    "        return a\n",
    "    else:\n",
    "        a = a + 1\n",
    "        return hallarCoprimo(a, b)\n",
    "    \n",
    "def resolverCongruencia(a, b, m): #ax \\equiv b (mod m)\n",
    "    if b == 0:\n",
    "        return 0\n",
    "    if a < 0:\n",
    "        a = -a\n",
    "        b = -b\n",
    "    b %= m\n",
    "    while a > m:\n",
    "        a -= m\n",
    "    return (m * resolverCongruencia(m, -b, a) + b) // a\n",
    "\n",
    "def powerModInt(a,k,n):\n",
    "    b = 1\n",
    "    if k == 0:\n",
    "        return b\n",
    " \n",
    "    while k>=1:\n",
    " \n",
    "        if k&1:\n",
    "            b = (b*a)%n\n",
    "        a =(a*a)%n\n",
    "        k=k>>1\n",
    " \n",
    "    return b\n",
    "\n",
    "def esPrimo(p): #Test primalidad Miller Rabin\n",
    "    #Primero comprobamos que sea impar.\n",
    "    if 1&p==0:\n",
    "        return False\n",
    "    #Expresamos p-1 como 2^u*s, con s impar.\n",
    "    s = p-1\n",
    "    #Dividir s por 2 hasta que el resultado sea impar.\n",
    "    u = 0\n",
    "    while 1&s==0:\n",
    "        u= u+1\n",
    "        s = s >> 1\n",
    "    print(p,\"= 2^\",u,\"*\",s)\n",
    "    for _ in range(20):#Ejecuciones para reducir las probabiliades de fallo.\n",
    "        #Elegimos a al azar tal que 2 <= a <= p-2\n",
    "        a = r.randint(2, p - 2)\n",
    "        a = powerModInt(a,s,p)\n",
    "        if a == 1 or a == p-1:#p-1 = -1\n",
    "            return True\n",
    "        else:\n",
    "            for i in [1,1,u-1]:\n",
    "                a = powerModInt(a,2,p)\n",
    "                if a == p-1:\n",
    "                    return True\n",
    "                elif a == 1:\n",
    "                    return False\n",
    "                i=i+1\n",
    "            return False\n",
    "        \n",
    "def encrypt(m):\n",
    "    print(\"\\nEncriptando mensaje...\")\n",
    "    c = m ** e % n\n",
    "    return c\n",
    "\n",
    "def decrypt(c):\n",
    "    print(\"\\nDesencriptando mensaje...\")\n",
    "    m = c ** d % n\n",
    "    return m"
   ]
  },
  {
   "cell_type": "code",
   "execution_count": 22,
   "metadata": {},
   "outputs": [
    {
     "name": "stdout",
     "output_type": "stream",
     "text": [
      "Calculando p y q...\n",
      "p: 401\n",
      "q: 1567\n",
      "\n",
      "Calculando n...\n",
      "n: 628367\n",
      "Calculando phi(n)...\n",
      "phi(n): 626400\n",
      "\n",
      "Hallando e coprimo de phi(n)...\n",
      "e: 387283\n",
      "\n",
      "Verificando que son coprimos...\n",
      "MCD(e,phi(n))= 1\n",
      "\n",
      "Hallando d resolviendo la congruencia...\n",
      "d: 171547 satisface la congruencia\n",
      "\n",
      "Clave pública: (628367, 387283)\n",
      "Clave privada: (628367, 171547)\n"
     ]
    }
   ],
   "source": [
    "#Eligiendo p y q\n",
    "print(\"Calculando p y q...\")\n",
    "\n",
    "p = 401\n",
    "q = 1567\n",
    "\n",
    "strp = str(p)\n",
    "strq = str(q)\n",
    "\n",
    "print(\"p: \" + strp)\n",
    "print(\"q: \" + strq)\n",
    "\n",
    "#Calculando n = p*q\n",
    "print(\"\\nCalculando n...\")\n",
    "\n",
    "n = p * q\n",
    "strn = str(n)\n",
    "print(\"n: \" + strn)\n",
    "\n",
    "#Calculando phi(n)\n",
    "print(\"Calculando phi(n)...\")\n",
    "\n",
    "phi_n = (p-1) * (q-1)\n",
    "\n",
    "strphi_n = str(phi_n)\n",
    "print(\"phi(n): \" + strphi_n)\n",
    "\n",
    "#Hallando e < phi(n)\n",
    "print(\"\\nHallando e coprimo de phi(n)...\")\n",
    "\n",
    "e = r.randint(2,(phi_n-1))\n",
    "e = hallarCoprimo(e, phi_n)\n",
    "\n",
    "stre = str(e)\n",
    "print(\"e: \" + stre)\n",
    "\n",
    "prueba = mcd(e,phi_n)\n",
    "print(\"\\nVerificando que son coprimos...\")\n",
    "print(\"MCD(e,phi(n))= \" + str(prueba))\n",
    "\n",
    "#Hallando d que resuelve la congruencia e*d = 1 (mod phi(n))\n",
    "print(\"\\nHallando d resolviendo la congruencia...\")\n",
    "\n",
    "d = resolverCongruencia(e,1,phi_n)\n",
    "\n",
    "strd = str(d)\n",
    "print(\"d: \" + strd + \" satisface la congruencia\")\n",
    "\n",
    "#Imprimiendo clave pública y privada\n",
    "print(\"\\nClave pública: (\" + strn + \", \" + stre + \")\" )\n",
    "print(\"Clave privada: (\" + strn + \", \" + strd + \")\" )\n"
   ]
  },
  {
   "cell_type": "code",
   "execution_count": 23,
   "metadata": {},
   "outputs": [
    {
     "name": "stdout",
     "output_type": "stream",
     "text": [
      "\n",
      "Inserte mensaje m: 24\n",
      "\n",
      "Encriptando mensaje...\n",
      "mensaje encriptado c: 99640\n"
     ]
    }
   ],
   "source": [
    "##Encriptar\n",
    "m = input(\"\\nInserte mensaje m: \")\n",
    "c = encrypt(int(m))\n",
    "strc = str(c)\n",
    "print(\"mensaje encriptado c: \" + strc)\n",
    "\n"
   ]
  },
  {
   "cell_type": "code",
   "execution_count": 24,
   "metadata": {},
   "outputs": [
    {
     "name": "stdout",
     "output_type": "stream",
     "text": [
      "\n",
      "Inserte mensaje encriptado c: 99640\n",
      "\n",
      "Desencriptando mensaje...\n",
      "Mensaje desencriptado m: 24\n"
     ]
    }
   ],
   "source": [
    "##Desencriptar\n",
    "c = input(\"\\nInserte mensaje encriptado c: \")\n",
    "m = decrypt(int(c))\n",
    "strm = str(m)\n",
    "print(\"Mensaje desencriptado m: \" + strm)"
   ]
  },
  {
   "cell_type": "code",
   "execution_count": null,
   "metadata": {},
   "outputs": [],
   "source": []
  },
  {
   "cell_type": "code",
   "execution_count": null,
   "metadata": {},
   "outputs": [],
   "source": []
  }
 ],
 "metadata": {
  "kernelspec": {
   "display_name": "Python 3",
   "language": "python",
   "name": "python3"
  },
  "language_info": {
   "codemirror_mode": {
    "name": "ipython",
    "version": 3
   },
   "file_extension": ".py",
   "mimetype": "text/x-python",
   "name": "python",
   "nbconvert_exporter": "python",
   "pygments_lexer": "ipython3",
   "version": "3.6.5"
  }
 },
 "nbformat": 4,
 "nbformat_minor": 2
}

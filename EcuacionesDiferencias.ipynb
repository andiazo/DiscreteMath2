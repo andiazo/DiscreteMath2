{
  "nbformat": 4,
  "nbformat_minor": 0,
  "metadata": {
    "colab": {
      "name": "EcuacionesDiferencias.ipynb",
      "provenance": [],
      "authorship_tag": "ABX9TyOH3jvAjLuEa+Z1bAmhLv9M",
      "include_colab_link": true
    },
    "kernelspec": {
      "name": "python3",
      "display_name": "Python 3"
    }
  },
  "cells": [
    {
      "cell_type": "markdown",
      "metadata": {
        "id": "view-in-github",
        "colab_type": "text"
      },
      "source": [
        "<a href=\"https://colab.research.google.com/github/andiazo/DiscreteMath2/blob/master/EcuacionesDiferencias.ipynb\" target=\"_parent\"><img src=\"https://colab.research.google.com/assets/colab-badge.svg\" alt=\"Open In Colab\"/></a>"
      ]
    },
    {
      "cell_type": "markdown",
      "metadata": {
        "id": "KBb34OIS8min",
        "colab_type": "text"
      },
      "source": [
        "# ECUACIONES EN DIFERENCIAS\n",
        "\n",
        "Andrés David Díaz Obando\n",
        "\n",
        "* Un banco tiene una tasa de interés de $5\\%$ compuesta mensualmente. Si se invierte 1000, ¿cuánto dinero se tiene mensualmente?\n",
        "Plantee una ecuación en diferencias para modelar el problema y resuélvalo.\n",
        "\n",
        "\tRecopilamos los datos, el interés es del $5\\%$ mensual y el capital en el mes cero es 1000, y para aplicar el esa tasa al capital es necesario multiplicar el capital por uno más la tasa, es decir $1000\\cdot(1 + 5\\%) = 1000 \\cdot (1.05)$. Entonces tenemos lo siguiente:\n",
        "\n",
        "\t$U_0=1000$, $U_1=U_0(1.05)$, $U_n=U_{n-1}(1.05)$. Entonces para la relación de recurrencia es $U_n=1000(1.05)^n$, donde $n$ es el mes en el cuál se desea saber el capital que hay en el banco.\n",
        "\n",
        "---\n",
        "\n",
        "* Resuelva las siguientes ecuaciones en diferencias:\n",
        "\t* $x(n+1) = x(n)$, $x(0)=2$.\n",
        "\n",
        "\tEsta ecuación es trivial, pues $x(1)=x(0)=2$ y $x(2)=x(1)=x(0)=2$, $x(n)=x(n-1)=x(n-2)=...=x(1)=x(0)=2$, entonces la solución es $x(n)=2$.\n",
        "\n",
        "\t* $x(n+1) = -x(n)$, $x(0)=4$\n",
        "\n",
        "\t$x(1)=-x(0)=-4$, $x(2)=-x(1)=4$, entonces la solución es $x(n)=(-1)^n4$.\n",
        "\n",
        "---\n",
        "\n",
        "* Un banco tiene una tasa de interés de $5\\%$ compuesta mensualmente. Si se invierte 1000, y cada mes se suma 10, ¿cuánto dinero se tiene mensualmente? Plantee una ecuación en diferencias para modelar el problema y resuélvalo.\n",
        "\n",
        "\tEsta ecuación tiene la forma de $U_n=kU_{n-1}+C$ cuya solución es $U_n=k^nU_0+C \\frac{(k^n-1)}{k-1}$ para $k \\not = 1$.\n",
        "\n",
        "\tEntonces, $U_0=1000$, $U_1=(1.05)U_0+10$, $U_n=(1.05)U_{n-1}+10$. Por tanto su solución es $U_n=(1.05)^n1000+10\\frac{1.05^n-1}{0.05}$\n",
        "\n",
        "---\n",
        "\n",
        "* Resuelva las siguientes ecuaciones en diferencias:\n",
        "\n",
        "\t* $2 x_n - 5 x_{n-1} = 0$, $x_0 = 2$.\n",
        "\n",
        "\t$2x_n=5x_{n-1}$\n",
        "\n",
        "\t$x_n=\\frac{5}{2}x_{n-1}$\n",
        "\n",
        "\tSu solución es $x_n=(\\frac{5}{2})^n\\cdot x_0=2\\cdot(\\frac{5}{2})^n=5^n\\cdot2^{1-n}$\n",
        "\n",
        "\t* $2 x_{n} - 7 x_{n-1} + 3 x_{n-2} = 0$, $x_0 = 1$, $x_1 = 2$\n",
        "\n",
        "\t$2 x_{n} = 7 x_{n-1} - 3 x_{n-2}$ \n",
        "\n",
        "\t$x_{n} = \\frac{7 x_{n-1} - 3 x_{n-2}}{2}$\n",
        "\n",
        "\t$x_{n} = \\frac{7}{2} x_{n-1} - \\frac{3}{2} x_{n-2}$. Esta ecuación tiene la forma $u_n=pu_{n-1}+qu_{n-2}$ cuya solución es $u_n=Am_1^n + Bm_2^n$, $m_1 \\not = m_2$ y $m_1$, $m_2$ son soluciones a $m^2-pm-q=0$. Entonces para este caso, $p=\\frac{7}{2}$ y $q=\\frac{-3}{2}$, las soluciones para $m^2-\\frac{7}{2}m+\\frac{3}{2}=0$ son $m_1=3$ y $m_2=\\frac{1}{2}$, esto se puede verificar con la fórmula cuadrática.\n",
        "\n",
        "\tTenemos que $x_{n} = A3^n+B(\\frac{1}{2})^n$\n",
        "\n",
        "\tAhora necesitamos hallar $A$ y $B$ y usamos los valores conocidos de $x$.\n",
        "\t\n",
        "\tCuando $n=0$, $x_0=1$\n",
        "\n",
        "\t$1=A3^0+B(\\frac{1}{2})^0$\n",
        "\n",
        "\t$A+B=1$\n",
        "\n",
        "\tCuando $n=1$, $x_1=2$\n",
        "\n",
        "\t$2=A3^1+B(\\frac{1}{2})^1=3 A + \\frac{1}{2}B$\n",
        "\n",
        "\t$3 A + \\frac{1}{2}B = 2$.\n",
        "\n",
        "\tCon esas 2 ecuaciones tenemos un sistema de dos ecuaciones y dos incógnitas, cuyas soluciones son: $A=\\frac{3}{5}$ y $B=\\frac{2}{5}$.\n",
        "\n",
        "\tAsí, la solución a la ecuación es $x_n=(\\frac{3}{5})3^n+(\\frac{2}{5})(\\frac{1}{2})^n$.\n",
        "\n",
        "---\n",
        "\n",
        "* Después de ganar el premio mayor de 200 millones en la lotería se le da la opción de recibir la suma global de 100 millones o recibir 10 millones por año durante los próximos 20 años. Usted va donde un asesor financiero que te dice que puede invertir nuestro dinero con él y recibir una tasa de interés del $\\alpha$ por ciento anual (compuesto anualmente). Ya que usted es extremadamente ahorrativo decide invertir todo su dinero durante los próximos 20 años. Escriba las ecuaciones en diferencia para las dos opciones. ¿Para qué tasa de interés $\\alpha$ es mejor recibir la suma global?\n",
        "\n",
        "\t* Primera opción:\n",
        "\t\n",
        "\t$U_1=100$\n",
        "\n",
        "\t$U_n=(1+\\alpha)U_{n-1}$\n",
        "\n",
        "\t$U_n=(1+\\alpha)^{n-1}(100)$\n",
        "\t\n",
        "\t* Segunda opción:\n",
        "\n",
        "\t$U_1=10$, $U_2=U_1(1+\\alpha)+10$\n",
        "\n",
        "\t$U_n=(1+\\alpha)U_{n-1} + 10$\n",
        "\n",
        "\t$U_n=(1+\\alpha)^{n-1}10 + 10\\frac{(1+\\alpha)^{n-1}-1}{\\alpha}$\n",
        "\n",
        "\tComparamos ambas ecuaciones para poder hallar $\\alpha$:\n",
        "\n",
        "\t$(1+\\alpha)^{n-1}(100) > (1+\\alpha)^{n-1}10 + 10\\frac{(1+\\alpha)^{n-1}-1}{\\alpha}$\n",
        "\n",
        "\tY con ayuda de software matemático se obtiene que para $\\alpha > 0.0892$ es mejor recibir la suma de global de 100 millones. Es decir, una tasa mayor al $8.92 \\%$.\n",
        "\n",
        "---\n",
        "\n",
        "* Los números de Lucas están relacionado con los números de Fibonacci, y están definidos por la siguiente secuencia $L_{n+2} = L_{n+1} + L_{n}$, $L_0=2$, $L_1=1$. Escriba un programa que imprima la siguiente información. El 18-th número de Lucas, el número de Lucas más cercano a 1000, y el primer número de Lucas más grande que 100.\n"
      ]
    },
    {
      "cell_type": "code",
      "metadata": {
        "id": "0w4BHYNG84xU",
        "colab_type": "code",
        "colab": {
          "base_uri": "https://localhost:8080/",
          "height": 102
        },
        "outputId": "9faf12d9-6cd5-4df0-ed48-f40db6e368d6"
      },
      "source": [
        "#Numeros de Lucas\n",
        "def lucas(n):\n",
        "  if n == 0:\n",
        "    return 2\n",
        "  if n == 1:\n",
        "    return 1\n",
        "  else:\n",
        "    return lucas(n-1) + lucas(n-2)\n",
        "  \n",
        "print(\"El 18-th numero de Lucas es: \" + str(lucas(18)))\n",
        "print(\"El numero de Lucas mas cercano a 1000 es: \"+str(lucas(14)))\n",
        "print(\"El primer numero de Lucas mas grande que 100 es: \"+str(lucas(10)))\n",
        "print(\"Primeros 20 numeros de Lucas:\")\n",
        "for i in range(20):\n",
        "  if i == 19:\n",
        "    print(lucas(i))\n",
        "  else:\n",
        "    print(lucas(i), end=\", \")"
      ],
      "execution_count": null,
      "outputs": [
        {
          "output_type": "stream",
          "text": [
            "El 18-th numero de Lucas es: 5778\n",
            "El numero de Lucas mas cercano a 1000 es: 843\n",
            "El primer numero de Lucas mas grande que 100 es: 123\n",
            "Primeros 20 numeros de Lucas:\n",
            "2, 1, 3, 4, 7, 11, 18, 29, 47, 76, 123, 199, 322, 521, 843, 1364, 2207, 3571, 5778, 9349\n"
          ],
          "name": "stdout"
        }
      ]
    },
    {
      "cell_type": "markdown",
      "metadata": {
        "id": "YnBYnvfs81nT",
        "colab_type": "text"
      },
      "source": [
        "---\n",
        "* Pruebe las siguientes identidades ($F_{n}$ es el $n-th$ número de Fibonacci): \n",
        "* $L_{n} = F_{n+1}+ F_{n-1}$\n",
        "\n",
        "  **Demostración por inducción:**\n",
        "\n",
        "  **Caso base:** $n=1$, entonces $L_1=F_2+F_0=1+0=1$. Se cumple.\n",
        "\n",
        "  **Hipótesis:** Suponga que para $n=m$ se cumple que $L_m=F_{m+1}+F_{m-1}$\n",
        "\n",
        "  **Paso inductivo:** Ahora, para $n=m+1$ se tiene que $L_{m+1}=L_{m}+L_{m-1}=F_{m+1}+F_{m-1}+F_{m}+F_{m-2}=F_{m+2}+F_{m}$, luego se cumple y la relación queda demostrada.\n",
        "\n",
        "* $F_{2n} = F_{n} L_{n}$\n",
        "\n",
        "  Sea $\\alpha = \\frac{1+\\sqrt{5}}{2}$ y $\\beta=\\frac{1-\\sqrt{5}}{2}$, se sabe que $F_{n}=\\frac{1}{\\sqrt{5}}(\\alpha^n - \\beta^n)$ y que $L_n=(\\alpha^n + \\beta^n)$.\n",
        "\n",
        "  Entonces:\n",
        "\n",
        "  $F_nL_n=\\frac{1}{\\sqrt{5}}(\\alpha^n - \\beta^n)(\\alpha^n + \\beta^n)$\n",
        "\n",
        "  $F_nL_n=\\frac{1}{\\sqrt{5}}(\\alpha^{2n} - \\beta^{2n})$\n",
        "\n",
        "  $F_nL_n=F_{2n}$.\n",
        "\n",
        "  Quedando así demostrada la relación."
      ]
    }
  ]
}